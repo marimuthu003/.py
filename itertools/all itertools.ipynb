{
 "cells": [
  {
   "cell_type": "markdown",
   "metadata": {},
   "source": [
    "I T E R T O O L S :\n",
    "\n",
    "1.COUNT\n",
    "2.ZIP AND ZIP LONGEST\n",
    "3.CYCLE\n",
    "4.STARMAP\n",
    "5.CHAIN\n",
    "6.ISLICE\n",
    "7.PERMUTATION\n",
    "8.COMBINATION\n",
    "9.COMPRESS\n",
    "10.FILTER AND FILTERFALSE\n",
    "11.DROPWHILE\n",
    "11.TAKEWHILE\n",
    "12.ACCUMULATE\n",
    "13.GROUPBY"
   ]
  },
  {
   "cell_type": "code",
   "execution_count": 1,
   "metadata": {},
   "outputs": [
    {
     "name": "stdout",
     "output_type": "stream",
     "text": [
      "5\n",
      "10\n",
      "15\n",
      "20\n",
      "25\n"
     ]
    }
   ],
   "source": [
    "#COUNT\n",
    "import itertools\n",
    "counter=itertools.count(start=5,step=5)\n",
    "print(next(counter))\n",
    "print(next(counter))\n",
    "print(next(counter))\n",
    "print(next(counter))\n",
    "print(next(counter))\n",
    "#for item in counter:\n",
    " #   print(item)"
   ]
  },
  {
   "cell_type": "code",
   "execution_count": 20,
   "metadata": {},
   "outputs": [
    {
     "name": "stdout",
     "output_type": "stream",
     "text": [
      "[(0, 100), (1, 200), (2, 300), (3, 400), (4, None), (5, None), (6, None), (7, None), (8, None), (9, None)]\n"
     ]
    }
   ],
   "source": [
    "#zip and zip longest\n",
    "import itertools\n",
    "data=[100,200,300,400]\n",
    "#paireddata=list(zip(itertools.count(),data))\n",
    "paireddata=list(itertools.zip_longest(range(10),data))\n",
    "print(paireddata)"
   ]
  },
  {
   "cell_type": "code",
   "execution_count": 14,
   "metadata": {},
   "outputs": [
    {
     "name": "stdout",
     "output_type": "stream",
     "text": [
      "1\n",
      "2\n",
      "3\n",
      "1\n",
      "2\n"
     ]
    }
   ],
   "source": [
    "#cycle\n",
    "import itertools\n",
    "counter=itertools.cycle([1,2,3])\n",
    "print(next(counter))\n",
    "print(next(counter))\n",
    "print(next(counter))\n",
    "print(next(counter))\n",
    "print(next(counter))\n"
   ]
  },
  {
   "cell_type": "code",
   "execution_count": 22,
   "metadata": {},
   "outputs": [
    {
     "name": "stdout",
     "output_type": "stream",
     "text": [
      "[0, 4]\n"
     ]
    }
   ],
   "source": [
    "import itertools\n",
    "counter=itertools.repeat(2,times=3)\n",
    "squares=list(itertools.starmap(pow,[(0,2),(2,2)]))\n",
    "#print(next(counter))\n",
    "#print(next(counter))\n",
    "#print(next(counter))\n",
    "print(squares)"
   ]
  }
 ],
 "metadata": {
  "kernelspec": {
   "display_name": "Python 3",
   "language": "python",
   "name": "python3"
  },
  "language_info": {
   "codemirror_mode": {
    "name": "ipython",
    "version": 3
   },
   "file_extension": ".py",
   "mimetype": "text/x-python",
   "name": "python",
   "nbconvert_exporter": "python",
   "pygments_lexer": "ipython3",
   "version": "3.12.1"
  }
 },
 "nbformat": 4,
 "nbformat_minor": 2
}
