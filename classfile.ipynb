{
 "cells": [
  {
   "cell_type": "code",
   "execution_count": 8,
   "metadata": {},
   "outputs": [
    {
     "name": "stdout",
     "output_type": "stream",
     "text": [
      "True\n"
     ]
    }
   ],
   "source": [
    "class open_file():\n",
    "    def __init__(self,filename,mode):\n",
    "        self.filename=filename\n",
    "        self.mode=mode\n",
    "    def __enter__(self):\n",
    "        self.file=open(self.filename,self.mode)\n",
    "        return self.file\n",
    "    def __exit__(self):\n",
    "        self.file.close()\n",
    "with open(\"sample.txt\",\"w\") as f:\n",
    "    f.write(\"testing\")\n",
    "\n",
    "print(f.closed)"
   ]
  },
  {
   "cell_type": "code",
   "execution_count": 9,
   "metadata": {},
   "outputs": [
    {
     "name": "stdout",
     "output_type": "stream",
     "text": [
      "True\n"
     ]
    }
   ],
   "source": [
    "from contextlib import contextmanager\n",
    "@contextmanager\n",
    "def open_file(filename,mode):\n",
    "    f=open(filename,mode)\n",
    "    yield f\n",
    "    f.close()\n",
    "with open(\"sample.txt\",\"w\") as f:\n",
    "    f.write(\"testing 2 with context manager\")\n",
    "print(f.closed)\n"
   ]
  }
 ],
 "metadata": {
  "kernelspec": {
   "display_name": "Python 3",
   "language": "python",
   "name": "python3"
  },
  "language_info": {
   "codemirror_mode": {
    "name": "ipython",
    "version": 3
   },
   "file_extension": ".py",
   "mimetype": "text/x-python",
   "name": "python",
   "nbconvert_exporter": "python",
   "pygments_lexer": "ipython3",
   "version": "3.12.1"
  }
 },
 "nbformat": 4,
 "nbformat_minor": 2
}
