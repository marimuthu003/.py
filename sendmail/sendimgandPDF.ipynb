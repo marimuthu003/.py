{
 "cells": [
  {
   "cell_type": "code",
   "execution_count": null,
   "metadata": {},
   "outputs": [],
   "source": [
    "import os\n",
    "import smtplib\n",
    "import imghdr\n",
    "from email.message import EmailMessage\n",
    "EMAIL_ADDRESS=os.environ.get('EMAIL_USER')\n",
    "EMAIL_PASSWORD=os.environ.get('EMAIL_PASS')\n",
    "msg=EmailMessage()\n",
    "msg['Subject']='hello hi lets go'\n",
    "msg['From']=EMAIL_ADDRESS\n",
    "msg['To']='muthumariappan002@gmail.com'\n",
    "msg.set_content('we are going to london tomorrow at 6 am morning')\n",
    "\n",
    "files=['london1.jpg','london2.jpg']\n",
    "\n",
    "for file in files:\n",
    "  with open(file,'rb') as f:\n",
    "     file_data=f.name\n",
    "     file_type=imghdr.what(f.name)\n",
    "     file_name=f.name\n",
    "\n",
    "     msg.add_attachment(file,file_name=file_name)\n",
    "    \n",
    "\n",
    "with smtplib.SMTP('smtp.gmail.com',587) as smtp:\n",
    "\n",
    "    smtp.login(EMAIL_ADDRESS,EMAIL_PASSWORD)\n",
    "    \n",
    "#smtp.sendmail(sender,receiver,message)\n",
    "    #smtp.sendmail(EMAIL_ADDRESS,'muhtumariappan002@gmail.com',msg)\n",
    "    smtp.send_message(msg)\n"
   ]
  }
 ],
 "metadata": {
  "language_info": {
   "name": "python"
  }
 },
 "nbformat": 4,
 "nbformat_minor": 2
}
