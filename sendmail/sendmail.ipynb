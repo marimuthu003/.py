{
 "cells": [
  {
   "cell_type": "code",
   "execution_count": 36,
   "metadata": {},
   "outputs": [
    {
     "name": "stdout",
     "output_type": "stream",
     "text": [
      "None\n",
      "None\n"
     ]
    }
   ],
   "source": [
    "import os\n",
    "db_user=os.environ.get('DB_USER')\n",
    "db_password=os.environ.get('DB_PASS')\n",
    "print(db_user)\n",
    "print(db_password)"
   ]
  },
  {
   "cell_type": "code",
   "execution_count": null,
   "metadata": {},
   "outputs": [],
   "source": [
    "import os\n",
    "import smtplib\n",
    "EMAIL_ADDRESS=os.environ.get('EMAIL_USER')\n",
    "EMAIL_PASSWORD=os.environ.get('EMAIL_PASS')\n",
    "\n",
    "with smtplib.SMTP('smtp.gmail.com',587) as smtp:\n",
    "    smtp.ehlo()\n",
    "    smtp.starttls()\n",
    "    smtp.ehlo()\n",
    "\n",
    "    smtp.login(EMAIL_ADDRESS,EMAIL_PASSWORD)\n",
    "    subject='Today is the best day for learning'\n",
    "    body='learn about a python for sending emails through smtplibrary'\n",
    "     \n",
    "    msg=f'subject:{subject}\\n\\n{body}'\n",
    "#smtp.sendmail(sender,receiver,message)\n",
    "    smtp.sendmail(EMAIL_ADDRESS,'muhtumariappan002@gmail.com',msg)\n"
   ]
  }
 ],
 "metadata": {
  "kernelspec": {
   "display_name": "Python 3",
   "language": "python",
   "name": "python3"
  },
  "language_info": {
   "codemirror_mode": {
    "name": "ipython",
    "version": 3
   },
   "file_extension": ".py",
   "mimetype": "text/x-python",
   "name": "python",
   "nbconvert_exporter": "python",
   "pygments_lexer": "ipython3",
   "version": "3.12.1"
  }
 },
 "nbformat": 4,
 "nbformat_minor": 2
}
