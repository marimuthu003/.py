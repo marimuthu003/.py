{
 "cells": [
  {
   "cell_type": "code",
   "execution_count": null,
   "metadata": {},
   "outputs": [],
   "source": [
    "import os\n",
    "import smtplib\n",
    "import imghdr\n",
    "from email.message import EmailMessage\n",
    "\n",
    "EMAIL_ADDRESS = os.environ.get('EMAIL_USER')\n",
    "EMAIL_PASSWORD = os.environ.get('EMAIL_PASS')\n",
    "\n",
    "contacts = ['YourAddress@gmail.com', 'test@example.com']\n",
    "\n",
    "msg = EmailMessage()\n",
    "msg['Subject'] = 'Check out Bronx as a puppy!'\n",
    "msg['From'] = EMAIL_ADDRESS\n",
    "msg['To'] = 'YourAddress@gmail.com'\n",
    "\n",
    "msg.set_content('This is a plain text email')\n",
    "\n",
    "msg.add_alternative(\"\"\"\\\n",
    "<!DOCTYPE html>\n",
    "<html>\n",
    "    <body>\n",
    "        <h1 style=\"color:SlateGray;\">This is an HTML Email!</h1>\n",
    "    </body>\n",
    "</html>\n",
    "\"\"\", subtype='html')\n",
    "\n",
    "\n",
    "with smtplib.SMTP_SSL('smtp.gmail.com', 465) as smtp:\n",
    "    smtp.login(EMAIL_ADDRESS, EMAIL_PASSWORD)\n",
    "    smtp.send_message(msg)"
   ]
  }
 ],
 "metadata": {
  "language_info": {
   "name": "python"
  }
 },
 "nbformat": 4,
 "nbformat_minor": 2
}
