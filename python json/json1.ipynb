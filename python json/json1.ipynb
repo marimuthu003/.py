{
 "cells": [
  {
   "cell_type": "code",
   "execution_count": 2,
   "metadata": {},
   "outputs": [
    {
     "name": "stdout",
     "output_type": "stream",
     "text": [
      "mari 1223456\n",
      "murukkumeesai 126758935\n",
      "{\n",
      "  \"people\": [\n",
      "    {\n",
      "      \"name\": \"mari\",\n",
      "      \"has_licence\": null\n",
      "    },\n",
      "    {\n",
      "      \"name\": \"murukkumeesai\",\n",
      "      \"has_licence\": true\n",
      "    }\n",
      "  ]\n",
      "}\n"
     ]
    }
   ],
   "source": [
    "import json\n",
    "people_string='''\n",
    "{\n",
    "\"people\":[\n",
    "    {\n",
    "    \"name\":\"mari\",\n",
    "    \"phone\":\"1223456\",\n",
    "    \"has_licence\":null\n",
    "},\n",
    "{\n",
    "   \"name\":\"murukkumeesai\",\n",
    "   \"phone\":\"126758935\",\n",
    "   \"has_licence\":true\n",
    "}\n",
    "]\n",
    "}\n",
    "'''\n",
    "data=json.loads(people_string)\n",
    "#print(data['people'])\n",
    "for person in data['people']:\n",
    "    print(person['name'],person['phone'])\n",
    "    del person['phone']\n",
    "new_string=json.dumps(data,indent=2)\n",
    "print(new_string)    "
   ]
  }
 ],
 "metadata": {
  "kernelspec": {
   "display_name": "Python 3",
   "language": "python",
   "name": "python3"
  },
  "language_info": {
   "codemirror_mode": {
    "name": "ipython",
    "version": 3
   },
   "file_extension": ".py",
   "mimetype": "text/x-python",
   "name": "python",
   "nbconvert_exporter": "python",
   "pygments_lexer": "ipython3",
   "version": "3.12.1"
  }
 },
 "nbformat": 4,
 "nbformat_minor": 2
}
