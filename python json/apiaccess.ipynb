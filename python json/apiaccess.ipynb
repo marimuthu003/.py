{
 "cells": [
  {
   "cell_type": "markdown",
   "metadata": {},
   "source": [
    "IN THIS I AM GOING TO DO APIURL ACCESS USING THE REQUEST LIBRARY AND IMPORT URLLIBRARY ITS GOIN TO BE EASY AND ATO ACCESS API BY THIS PYTHON JSON ."
   ]
  },
  {
   "cell_type": "code",
   "execution_count": null,
   "metadata": {},
   "outputs": [],
   "source": [
    "import json\n",
    "from urllib.request import urlopen\n",
    "\n",
    "with urlopen(\"https://finance.yahoo.com/webservice/v1/symbols/allcurrencies/quote?format=json\") as response:\n",
    "    source = response.read()\n",
    "\n",
    "data = json.loads(source)\n",
    "\n",
    "# print(json.dumps(data, indent=2))\n",
    "\n",
    "usd_rates = dict()\n",
    "\n",
    "for item in data['list']['resources']:\n",
    "    name = item['resource']['fields']['name']\n",
    "    price = item['resource']['fields']['price']\n",
    "    usd_rates[name] = price\n",
    "\n",
    "print(50 * float(usd_rates['USD/INR']))"
   ]
  },
  {
   "cell_type": "markdown",
   "metadata": {},
   "source": [
    "IN THIS PROGRAM THE YAHOO API DIDNT CONNECT BECAUSE OF THE SERVER SO TRY THE ANOTHER API URL TO ACCESS THE DATA."
   ]
  }
 ],
 "metadata": {
  "kernelspec": {
   "display_name": "Python 3",
   "language": "python",
   "name": "python3"
  },
  "language_info": {
   "name": "python",
   "version": "3.12.1"
  }
 },
 "nbformat": 4,
 "nbformat_minor": 2
}
