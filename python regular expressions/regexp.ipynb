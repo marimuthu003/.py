{
 "cells": [
  {
   "cell_type": "code",
   "execution_count": 5,
   "id": "119af1cf-5c3c-496a-86ab-cf452c7b3515",
   "metadata": {},
   "outputs": [
    {
     "name": "stdout",
     "output_type": "stream",
     "text": [
      "<re.Match object; span=(11, 15), match='mari'>\n"
     ]
    }
   ],
   "source": [
    "import re\n",
    "emails='''\n",
    "marimuhtu@gmail.com,\n",
    "gang-ster-m3@gmail.gang,corey-321-schafer@gamil.net\n",
    "'''\n",
    "sentence=\"my name is mari muthu\"\n",
    "#pattern=re.compile(r'[a-zA-Z0-9-]+@[a-zA-Z0-9]+\\.(com|gang|net)')\n",
    "pattern=re.compile(r'mari',re.I)\n",
    "#matches=pattern.(sentence)\n",
    "matches=pattern.search(sentence)\n",
    "#matches=pattern.finditer(emails)\n",
    "#matches=pattern.findall(emails)\n",
    "#for match in matches:\n",
    "print(matches)"
   ]
  },
  {
   "cell_type": "raw",
   "id": "33b69097-56a2-4182-a5dc-cc1459f43379",
   "metadata": {},
   "source": []
  },
  {
   "cell_type": "code",
   "execution_count": null,
   "id": "678605d8-7cb3-412b-bac1-59b7cf0208b2",
   "metadata": {},
   "outputs": [],
   "source": []
  }
 ],
 "metadata": {
  "kernelspec": {
   "display_name": "Python 3 (ipykernel)",
   "language": "python",
   "name": "python3"
  },
  "language_info": {
   "codemirror_mode": {
    "name": "ipython",
    "version": 3
   },
   "file_extension": ".py",
   "mimetype": "text/x-python",
   "name": "python",
   "nbconvert_exporter": "python",
   "pygments_lexer": "ipython3",
   "version": "3.12.1"
  }
 },
 "nbformat": 4,
 "nbformat_minor": 5
}
