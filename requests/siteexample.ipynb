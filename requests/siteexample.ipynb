{
 "cells": [
  {
   "cell_type": "code",
   "execution_count": 31,
   "metadata": {},
   "outputs": [
    {
     "name": "stdout",
     "output_type": "stream",
     "text": [
      "Quote: “The world as we have created it is a process of our thinking. It cannot be changed without changing our thinking.”\n",
      "Author: Albert Einstein\n",
      "\n",
      "Quote: “It is our choices, Harry, that show what we truly are, far more than our abilities.”\n",
      "Author: J.K. Rowling\n",
      "\n",
      "Quote: “There are only two ways to live your life. One is as though nothing is a miracle. The other is as though everything is a miracle.”\n",
      "Author: Albert Einstein\n",
      "\n",
      "Quote: “The person, be it gentleman or lady, who has not pleasure in a good novel, must be intolerably stupid.”\n",
      "Author: Jane Austen\n",
      "\n",
      "Quote: “Imperfection is beauty, madness is genius and it's better to be absolutely ridiculous than absolutely boring.”\n",
      "Author: Marilyn Monroe\n",
      "\n",
      "Quote: “Try not to become a man of success. Rather become a man of value.”\n",
      "Author: Albert Einstein\n",
      "\n",
      "Quote: “It is better to be hated for what you are than to be loved for what you are not.”\n",
      "Author: André Gide\n",
      "\n",
      "Quote: “I have not failed. I've just found 10,000 ways that won't work.”\n",
      "Author: Thomas A. Edison\n",
      "\n",
      "Quote: “A woman is like a tea bag; you never know how strong it is until it's in hot water.”\n",
      "Author: Eleanor Roosevelt\n",
      "\n",
      "Quote: “A day without sunshine is like, you know, night.”\n",
      "Author: Steve Martin\n",
      "\n"
     ]
    }
   ],
   "source": [
    "from requests_html import HTMLSession\n",
    "\n",
    "url = 'http://quotes.toscrape.com'\n",
    "session = HTMLSession()\n",
    "\n",
    "# Sending an HTTP request and rendering JavaScript content\n",
    "response = session.get(url)\n",
    "\n",
    "\n",
    "# Extracting quotes and authors\n",
    "quotes = response.html.find('span.text')\n",
    "authors = response.html.find('small.author')\n",
    "\n",
    "# Printing the quotes and authors\n",
    "for i in range(len(quotes)):\n",
    "    print(f'Quote: {quotes[i].text}')\n",
    "    print(f'Author: {authors[i].text}\\n')\n"
   ]
  },
  {
   "cell_type": "code",
   "execution_count": 39,
   "metadata": {},
   "outputs": [
    {
     "name": "stdout",
     "output_type": "stream",
     "text": [
      "In this Python Django Tutorial, we will be learning how to deploy our application to a Linux Server from scratch using Linode.\n",
      "We will be covering the entire deployment of a Django application. This includes spinning up a new Linux Server and tightening its security with SSH keys and firewalls. Then we will install Apache and Mod_WSGI so that we can get our Django App running. Let’s get started…\n",
      "Apache config used in this video: https://github.com/CoreyMSchafer/code…\n",
      "🔔 Subscribe: https://www.youtube.com/c/Coreyms/featured\n",
      "#python #django\n"
     ]
    }
   ],
   "source": [
    "from requests_html import HTMLSession\n",
    "\n",
    "url = 'https://morioh.com/a/b61f47150f4d/python-django-tutorial-deploying-your-application-deploy-to-a-linux-server'\n",
    "session = HTMLSession()\n",
    "response = session.get(url)\n",
    "\n",
    "# Extracting the first div element with class 'prose'\n",
    "first_div_element = response.html.find('div.prose')\n",
    "\n",
    "# Printing the text content of the first div element\n",
    "for para in first_div_element:\n",
    "    print(para.text)"
   ]
  }
 ],
 "metadata": {
  "kernelspec": {
   "display_name": "Python 3",
   "language": "python",
   "name": "python3"
  },
  "language_info": {
   "codemirror_mode": {
    "name": "ipython",
    "version": 3
   },
   "file_extension": ".py",
   "mimetype": "text/x-python",
   "name": "python",
   "nbconvert_exporter": "python",
   "pygments_lexer": "ipython3",
   "version": "3.12.1"
  }
 },
 "nbformat": 4,
 "nbformat_minor": 2
}
