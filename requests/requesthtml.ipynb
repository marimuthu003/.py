{
 "cells": [
  {
   "cell_type": "code",
   "execution_count": 12,
   "id": "193dcd3b-c48b-42b0-a7d4-ce29861a70c1",
   "metadata": {},
   "outputs": [
    {
     "name": "stdout",
     "output_type": "stream",
     "text": [
      "Article 1 Headline\n",
      "This is a summary of article 1\n",
      "\n",
      "Article 2 Headline\n",
      "This is a summary of article 2\n",
      "\n"
     ]
    }
   ],
   "source": [
    "from requests_html import HTML\n",
    "import csv\n",
    "with open('sample.html') as html_file:\n",
    "    source=html_file.read()\n",
    "    html=HTML(html=source)\n",
    "with open('sample.csv','w') as csvfile:\n",
    "    csv_writer=csv.writer(csvfile)\n",
    "    csv_writer.writerow(['headline','summary'])\n",
    "#print(html)\n",
    "#match=html.find('title',first=True)\n",
    "#print(match.text)\n",
    "    articles=html.find('div.article')\n",
    "    for article in articles:\n",
    "       headline=article.find('h2',first=True)\n",
    "       summary=article.find('p',first=True)\n",
    "       csv_writer.writerow([headline.text,summary.text])\n",
    "       print(headline.text)\n",
    "       print(summary.text)\n",
    "       print()\n",
    "    "
   ]
  },
  {
   "cell_type": "code",
   "execution_count": 2,
   "id": "b0c4b7c5",
   "metadata": {},
   "outputs": [
    {
     "name": "stdout",
     "output_type": "stream",
     "text": [
      "Article 1 Headline\n",
      "This is a summary of article 1\n",
      "\n",
      "Article 2 Headline\n",
      "This is a summary of article 2\n",
      "\n"
     ]
    }
   ],
   "source": [
    "from requests_html import HTML\n",
    "import csv\n",
    "\n",
    "with open('sample.html') as html_file:\n",
    "    source = html_file.read()\n",
    "    html = HTML(html=source)\n",
    "\n",
    "with open('sample.csv', 'w', newline='', encoding='utf-8') as csvfile:\n",
    "    csv_writer = csv.writer(csvfile)\n",
    "    csv_writer.writerow(['headline', 'summary'])\n",
    "\n",
    "    articles = html.find('div.article')\n",
    "    for article in articles:\n",
    "        headline = article.find('h2', first=True)\n",
    "        summary = article.find('p', first=True)\n",
    "\n",
    "        if headline and summary:\n",
    "            csv_writer.writerow([headline.text, summary.text])\n",
    "            print(headline.text)\n",
    "            print(summary.text)\n",
    "            print()\n"
   ]
  }
 ],
 "metadata": {
  "kernelspec": {
   "display_name": "Python 3 (ipykernel)",
   "language": "python",
   "name": "python3"
  },
  "language_info": {
   "codemirror_mode": {
    "name": "ipython",
    "version": 3
   },
   "file_extension": ".py",
   "mimetype": "text/x-python",
   "name": "python",
   "nbconvert_exporter": "python",
   "pygments_lexer": "ipython3",
   "version": "3.12.1"
  }
 },
 "nbformat": 4,
 "nbformat_minor": 5
}
