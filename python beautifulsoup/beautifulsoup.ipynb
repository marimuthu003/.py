{
 "cells": [
  {
   "cell_type": "code",
   "execution_count": 2,
   "id": "88727525",
   "metadata": {},
   "outputs": [
    {
     "name": "stdout",
     "output_type": "stream",
     "text": [
      "Article 1 Headline\n",
      "This is a summary of article 1\n",
      "\n",
      "Article 2 Headline\n",
      "This is a summary of article 2\n",
      "\n"
     ]
    }
   ],
   "source": [
    "from bs4 import BeautifulSoup\n",
    "import requests\n",
    "with open('simple.html') as htmlfile:\n",
    "    soup=BeautifulSoup(htmlfile,'lxml')\n",
    "#print(soup.prettify()) \n",
    "    for article in soup.find_all('div',class_='article'):\n",
    "        headline=article.h2.a.text\n",
    "        print(headline)\n",
    "          #print(article) \n",
    "        summary=article.p.text\n",
    "        print(summary)\n",
    "        print()\n"
   ]
  },
  {
   "cell_type": "code",
   "execution_count": null,
   "id": "fa0469aa-ff1f-4d14-bb58-a23d20a9d81d",
   "metadata": {},
   "outputs": [],
   "source": []
  }
 ],
 "metadata": {
  "kernelspec": {
   "display_name": "Python 3 (ipykernel)",
   "language": "python",
   "name": "python3"
  },
  "language_info": {
   "codemirror_mode": {
    "name": "ipython",
    "version": 3
   },
   "file_extension": ".py",
   "mimetype": "text/x-python",
   "name": "python",
   "nbconvert_exporter": "python",
   "pygments_lexer": "ipython3",
   "version": "3.12.1"
  }
 },
 "nbformat": 4,
 "nbformat_minor": 5
}
