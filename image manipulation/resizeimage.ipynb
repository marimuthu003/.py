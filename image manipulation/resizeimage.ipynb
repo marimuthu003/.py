{
 "cells": [
  {
   "cell_type": "code",
   "execution_count": 6,
   "metadata": {},
   "outputs": [],
   "source": [
    "from PIL import Image\n",
    "import os\n",
    "\n",
    "size_300=(300,300)\n",
    "size_1000=(1000,1000)\n",
    "\n",
    "for f in os.listdir('.'):\n",
    "    if f.endswith('.jpg'):\n",
    "        i=Image.open(f)\n",
    "        fn,fext=os.path.splitext(f)\n",
    "\n",
    "        i.thumbnail(size_300)\n",
    "        i.save('300pixels/{}_300.{}'.format(fn,fext))\n",
    "\n",
    "        i.thumbnail(size_1000)\n",
    "        i.save('1000pixels/{}_1000.{}'.format(fn,fext))\n",
    "        i.show()\n"
   ]
  }
 ],
 "metadata": {
  "kernelspec": {
   "display_name": "Python 3",
   "language": "python",
   "name": "python3"
  },
  "language_info": {
   "codemirror_mode": {
    "name": "ipython",
    "version": 3
   },
   "file_extension": ".py",
   "mimetype": "text/x-python",
   "name": "python",
   "nbconvert_exporter": "python",
   "pygments_lexer": "ipython3",
   "version": "3.12.1"
  }
 },
 "nbformat": 4,
 "nbformat_minor": 2
}
